{
 "cells": [
  {
   "cell_type": "code",
   "execution_count": null,
   "metadata": {
    "collapsed": true
   },
   "outputs": [],
   "source": [
    "import pandas as pd"
   ]
  },
  {
   "cell_type": "code",
   "execution_count": null,
   "metadata": {
    "collapsed": true
   },
   "outputs": [],
   "source": [
    "# read in the movies data\n",
    "movies = pd.read_csv(\"data/movies.csv\")"
   ]
  },
  {
   "cell_type": "code",
   "execution_count": null,
   "metadata": {},
   "outputs": [],
   "source": [
    "# look at the data\n",
    "movies.head()"
   ]
  },
  {
   "cell_type": "code",
   "execution_count": null,
   "metadata": {},
   "outputs": [],
   "source": [
    "# Explore the columns\n",
    "movies.columns"
   ]
  },
  {
   "cell_type": "code",
   "execution_count": null,
   "metadata": {},
   "outputs": [],
   "source": [
    "# Find the number of (rows,columns) of data\n",
    "movies.shape"
   ]
  },
  {
   "cell_type": "code",
   "execution_count": null,
   "metadata": {},
   "outputs": [],
   "source": [
    "# investigate the type of what is in each column\n",
    "movies.dtypes"
   ]
  },
  {
   "cell_type": "code",
   "execution_count": null,
   "metadata": {},
   "outputs": [],
   "source": [
    "# look at the movie titles series\n",
    "movies['title']"
   ]
  },
  {
   "cell_type": "code",
   "execution_count": null,
   "metadata": {},
   "outputs": [],
   "source": [
    "# access the row indexed by 27\n",
    "movies.loc[27]"
   ]
  },
  {
   "cell_type": "code",
   "execution_count": null,
   "metadata": {},
   "outputs": [],
   "source": [
    "# access any row which has a movie title of \"Ghostbusters (2016)\"\n",
    "movies.loc[movies['title']==\"Ghostbusters (2016)\"]"
   ]
  },
  {
   "cell_type": "code",
   "execution_count": null,
   "metadata": {
    "collapsed": true
   },
   "outputs": [],
   "source": [
    "# read the ratings data\n",
    "ratings = pd.read_csv(\"data/ratings.csv\")"
   ]
  },
  {
   "cell_type": "code",
   "execution_count": null,
   "metadata": {},
   "outputs": [],
   "source": [
    "# look at the data\n",
    "ratings.head(5)"
   ]
  },
  {
   "cell_type": "code",
   "execution_count": null,
   "metadata": {},
   "outputs": [],
   "source": [
    "# find the different ratings set by userId = 14\n",
    "ratings.loc[ratings['userId']==14]"
   ]
  },
  {
   "cell_type": "code",
   "execution_count": null,
   "metadata": {},
   "outputs": [],
   "source": [
    "# Find the name of their favourite movie by looking for movieId 3175 in the movie data\n",
    "movies.loc[movies['movieId']==3175]"
   ]
  },
  {
   "cell_type": "code",
   "execution_count": null,
   "metadata": {},
   "outputs": [],
   "source": [
    "# sorts the data by 'rating'\n",
    "ratings.sort_values('rating')\n",
    "\n",
    "# sorts the data by 'rating' in descending order\n",
    "ratings.sort_values('rating',ascending = False)"
   ]
  },
  {
   "cell_type": "code",
   "execution_count": null,
   "metadata": {
    "collapsed": true
   },
   "outputs": [],
   "source": [
    "# make a new column 'score' in the ratings data\n",
    "ratings['score'] = 100 * ratings['rating']/5"
   ]
  },
  {
   "cell_type": "code",
   "execution_count": null,
   "metadata": {},
   "outputs": [],
   "source": [
    "ratings.head()"
   ]
  },
  {
   "cell_type": "code",
   "execution_count": null,
   "metadata": {},
   "outputs": [],
   "source": [
    "# find the unique values\n",
    "ratings['score'].unique()"
   ]
  },
  {
   "cell_type": "code",
   "execution_count": null,
   "metadata": {},
   "outputs": [],
   "source": [
    "# merge the movies data into the ratings data\n",
    "'''\n",
    "From the documentation:\n",
    "DataFrame.merge(right, \n",
    "                how='inner', \n",
    "                on=None, \n",
    "                left_on=None, \n",
    "                right_on=None, \n",
    "                left_index=False, \n",
    "                right_index=False, \n",
    "                sort=False, \n",
    "                suffixes=('_x', '_y'), \n",
    "                copy=True, \n",
    "                indicator=False)\n",
    "DataFrame: is the dataframe we merge into, implicitly this is the left dataframe -> ratings\n",
    "right: is the dataframe we merge in -> movies\n",
    "how: 'left' because we want to keep all the data found in the left dataframe\n",
    "on: 'movieId' because that is the column of data they have in common\n",
    "left_on: we would use this if the column of data they had in common was not the same,\n",
    "right_on: same as left_on but for the right dataframe\n",
    "left_index: if we wanted the \"column\" on the left to merge on to be the left index\n",
    "right_index: same as left_index but for the right dataframe\n",
    "sort: if we wanted to sort the result\n",
    "suffixes: pandas will keep all the column names, so if they are the same we can give them a suffix\n",
    "copy: it can help if your data sets are super super large\n",
    "indicator: see docs\n",
    "'''\n",
    "ratings_with_movietitles = ratings.merge(movies, how='inner',on='movieId' )\n",
    "ratings_with_movietitles.shape"
   ]
  },
  {
   "cell_type": "code",
   "execution_count": null,
   "metadata": {},
   "outputs": [],
   "source": [
    "#to only add in the movie titles you can select the columns first\n",
    "ratings_with_movietitles = ratings.merge(movies[['movieId','title']], how='inner',on='movieId' )"
   ]
  },
  {
   "cell_type": "code",
   "execution_count": null,
   "metadata": {
    "collapsed": true
   },
   "outputs": [],
   "source": []
  }
 ],
 "metadata": {
  "kernelspec": {
   "display_name": "Python 3",
   "language": "python",
   "name": "python3"
  },
  "language_info": {
   "codemirror_mode": {
    "name": "ipython",
    "version": 3
   },
   "file_extension": ".py",
   "mimetype": "text/x-python",
   "name": "python",
   "nbconvert_exporter": "python",
   "pygments_lexer": "ipython3",
   "version": "3.6.1"
  }
 },
 "nbformat": 4,
 "nbformat_minor": 2
}

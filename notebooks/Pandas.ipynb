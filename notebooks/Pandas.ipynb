{
 "cells": [
  {
   "cell_type": "markdown",
   "metadata": {},
   "source": [
    "# VALA Tech Camp - Introduction to Python"
   ]
  },
  {
   "cell_type": "markdown",
   "metadata": {},
   "source": [
    "## Pandas!"
   ]
  },
  {
   "cell_type": "markdown",
   "metadata": {},
   "source": [
    "### The Pandas Library"
   ]
  },
  {
   "cell_type": "markdown",
   "metadata": {},
   "source": [
    "#### Exercise 13\n",
    "\n",
    "Import pandas into your notebook and give it 'pd' as an alias"
   ]
  },
  {
   "cell_type": "code",
   "execution_count": null,
   "metadata": {
    "collapsed": true
   },
   "outputs": [],
   "source": []
  },
  {
   "cell_type": "markdown",
   "metadata": {},
   "source": [
    "### A Worked Example"
   ]
  },
  {
   "cell_type": "markdown",
   "metadata": {},
   "source": [
    "#### Exercise 14\n",
    "\n",
    "- Use the read_csv function from pandas to read the file \"data/movies.csv\" and assign this file to the variable \"movies\".\n",
    "- Look at the first 5 forws of your data, what are the columns in this data?\n",
    "- Looking at the values, what do you think the \"type\" of the data in each column is?\n"
   ]
  },
  {
   "cell_type": "code",
   "execution_count": null,
   "metadata": {
    "collapsed": true
   },
   "outputs": [],
   "source": []
  },
  {
   "cell_type": "code",
   "execution_count": null,
   "metadata": {
    "collapsed": true
   },
   "outputs": [],
   "source": []
  },
  {
   "cell_type": "markdown",
   "metadata": {},
   "source": []
  },
  {
   "cell_type": "markdown",
   "metadata": {},
   "source": [
    "#### Group Question 5 \n",
    "\n",
    "Can you think of a common multi-index that you use in your everyday life?"
   ]
  },
  {
   "cell_type": "markdown",
   "metadata": {},
   "source": []
  },
  {
   "cell_type": "markdown",
   "metadata": {},
   "source": [
    "#### Exercise 15\n",
    "\n",
    "Investigate the following attributes:\n",
    "\n",
    "- shape\n",
    "- dtypes"
   ]
  },
  {
   "cell_type": "code",
   "execution_count": null,
   "metadata": {
    "collapsed": true
   },
   "outputs": [],
   "source": []
  },
  {
   "cell_type": "markdown",
   "metadata": {},
   "source": [
    "#### Exercise 16\n",
    "\n",
    "- Read in the file \"ratings.csv\" in the data folder. \n",
    "- How many ratings are in this file?\n",
    "- Find all the ratings for userId == 14\n",
    "- Asumming 5 is the best score, what is the title of their\n",
    " best rated movie?\n",
    "- What are the genres of this movie?\n",
    "- Challenge: Use the \"sort_values\" function on your ratings DataFrame and sort them according to the \"rating\" column. Can you sort them from largest to smallest, ie. descending\n"
   ]
  },
  {
   "cell_type": "code",
   "execution_count": null,
   "metadata": {
    "collapsed": true
   },
   "outputs": [],
   "source": []
  },
  {
   "cell_type": "code",
   "execution_count": null,
   "metadata": {
    "collapsed": true
   },
   "outputs": [],
   "source": []
  },
  {
   "cell_type": "code",
   "execution_count": null,
   "metadata": {
    "collapsed": true
   },
   "outputs": [],
   "source": []
  },
  {
   "cell_type": "code",
   "execution_count": null,
   "metadata": {
    "collapsed": true
   },
   "outputs": [],
   "source": []
  },
  {
   "cell_type": "code",
   "execution_count": null,
   "metadata": {
    "collapsed": true
   },
   "outputs": [],
   "source": []
  },
  {
   "cell_type": "code",
   "execution_count": null,
   "metadata": {
    "collapsed": true
   },
   "outputs": [],
   "source": []
  },
  {
   "cell_type": "markdown",
   "metadata": {},
   "source": [
    "#### Exercise 17 \n",
    "\n",
    "- Find the unique scores by doing the following:\n",
    "- Follow the code above to assing your ratings data a \"score\"\n",
    "- Access the \"score\" column as a series, like we did to access movie titles (movies['title'])\n",
    "- Use the \"unique\" function to get all unique scores. How many are there?"
   ]
  },
  {
   "cell_type": "code",
   "execution_count": null,
   "metadata": {
    "collapsed": true
   },
   "outputs": [],
   "source": []
  },
  {
   "cell_type": "code",
   "execution_count": null,
   "metadata": {
    "collapsed": true
   },
   "outputs": [],
   "source": []
  },
  {
   "cell_type": "code",
   "execution_count": null,
   "metadata": {
    "collapsed": true
   },
   "outputs": [],
   "source": []
  },
  {
   "cell_type": "code",
   "execution_count": null,
   "metadata": {
    "collapsed": true
   },
   "outputs": [],
   "source": []
  },
  {
   "cell_type": "markdown",
   "metadata": {},
   "source": [
    "#### Exercise  18 - Challenge - Merging DataFrames\n",
    "\n",
    "As it stands, the \"ratings\" DataFrame we only see the movieId, and not the\n",
    "name of the movie. If we were able to merge in the \"movies\" DataFrame, then\n",
    "we could see the ratings together with the movie name and other data.\n",
    "\n",
    "- Use the \"merge\" function on a DataFrame to merge \"movies\" into \"ratings\".\n",
    "- Extra Challenge - Can you find a way to only merge the movie name, and not the other columns."
   ]
  },
  {
   "cell_type": "code",
   "execution_count": null,
   "metadata": {
    "collapsed": true
   },
   "outputs": [],
   "source": []
  },
  {
   "cell_type": "code",
   "execution_count": null,
   "metadata": {
    "collapsed": true
   },
   "outputs": [],
   "source": []
  },
  {
   "cell_type": "markdown",
   "metadata": {},
   "source": [
    "#### Exercise 19 - Joint Exercises\n",
    "\n",
    "Later in the Tech Camp you will learn how to use APIs. IMDB has an API\n",
    "that is accessible via the library\n",
    "[ImdbPie](https://github.com/richardasaurus/imdb-pie).\n",
    "\n",
    "This can be used to get the movie poster for the movies in this data set.\n",
    "\n",
    "If you feel comfortable with APIs, come back to this exercise and use\n",
    "the \"imdbId\" field from the \"movies\" data set to find the movie poster\n",
    "for that movie and display it in the notebook!\n",
    "\n",
    "Hint: Here are two functions that will be handy:\n",
    "```\n",
    "def toImdbFormat(imdbId):\n",
    "    return \"tt\" + ((\"0\" * 7) + str(imdbId))[-7:]\n",
    "\n",
    "def poster_image (imdbId):\n",
    "    from IPython.display import Image\n",
    "    id_ = toImdbFormat(imdbId)\n",
    "    title = imdb.get_title_by_id(id_)\n",
    "    return Image(url=title.poster_url, width=200, height=200)\n",
    "```   "
   ]
  },
  {
   "cell_type": "code",
   "execution_count": null,
   "metadata": {
    "collapsed": true
   },
   "outputs": [],
   "source": []
  },
  {
   "cell_type": "markdown",
   "metadata": {},
   "source": [
    "#### Exercise 20 - Ambitious - Finding Friends To Watch Movies With\n",
    "\n",
    "Write some code that, using the \"reviews\" DataFrame, finds\n",
    "users that reated the same movie highly (a 5, say) and then\n",
    "in this way build a new DataFrame, \"friends\", with the following\n",
    "columns:\n",
    "\n",
    "    friendId1, friendId2"
   ]
  }
 ],
 "metadata": {
  "kernelspec": {
   "display_name": "Python 3",
   "language": "python",
   "name": "python3"
  },
  "language_info": {
   "codemirror_mode": {
    "name": "ipython",
    "version": 3
   },
   "file_extension": ".py",
   "mimetype": "text/x-python",
   "name": "python",
   "nbconvert_exporter": "python",
   "pygments_lexer": "ipython3",
   "version": "3.6.1"
  }
 },
 "nbformat": 4,
 "nbformat_minor": 2
}

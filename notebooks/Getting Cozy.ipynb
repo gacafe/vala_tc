{
 "cells": [
  {
   "cell_type": "markdown",
   "metadata": {},
   "source": [
    "# VALA Tech Camp - Introduction to Python"
   ]
  },
  {
   "cell_type": "markdown",
   "metadata": {},
   "source": [
    "## Getting Cozy"
   ]
  },
  {
   "cell_type": "markdown",
   "metadata": {},
   "source": [
    "### User-Defined Functions"
   ]
  },
  {
   "cell_type": "markdown",
   "metadata": {},
   "source": [
    "#### Group Question 2\n",
    "\n",
    "How many arguments does the greet_person function have?"
   ]
  },
  {
   "cell_type": "code",
   "execution_count": 2,
   "metadata": {
    "collapsed": true
   },
   "outputs": [],
   "source": [
    "def greet_person(name, location):\n",
    "    result = \"Hello \" + name + \"! How's things in \" + location + \"?\"\n",
    "    return result"
   ]
  },
  {
   "cell_type": "code",
   "execution_count": null,
   "metadata": {
    "collapsed": true
   },
   "outputs": [],
   "source": []
  },
  {
   "cell_type": "markdown",
   "metadata": {},
   "source": [
    "#### Group Question 3\n",
    "\n",
    "What are the steps in the \"foo\" function below?"
   ]
  },
  {
   "cell_type": "code",
   "execution_count": null,
   "metadata": {
    "collapsed": true
   },
   "outputs": [],
   "source": [
    "def foo(x):\n",
    "    w = 1\n",
    "    y = x + (7 * w)\n",
    "    print(y)\n",
    "w = 9"
   ]
  },
  {
   "cell_type": "code",
   "execution_count": null,
   "metadata": {
    "collapsed": true
   },
   "outputs": [],
   "source": []
  },
  {
   "cell_type": "markdown",
   "metadata": {},
   "source": [
    "#### Exercise 7\n",
    "\n",
    "- Evaluate the seven_up and greet_person functions with different values in your notebook\n",
    "- Write a new function \"always_five\" that always returns the value 5, regardless of the arguments.\n",
    "- Delete the \"return result\" line from the \"greet_person\" function and try and evaluate it again, What is different?"
   ]
  },
  {
   "cell_type": "code",
   "execution_count": null,
   "metadata": {
    "collapsed": true
   },
   "outputs": [],
   "source": [
    "def seven_up(x):\n",
    "    y = x + 7\n",
    "    return y"
   ]
  },
  {
   "cell_type": "code",
   "execution_count": null,
   "metadata": {
    "collapsed": true
   },
   "outputs": [],
   "source": []
  },
  {
   "cell_type": "markdown",
   "metadata": {},
   "source": [
    "### Objects and Functions on Them"
   ]
  },
  {
   "cell_type": "markdown",
   "metadata": {},
   "source": [
    "#### Exercise 8\n",
    "\n",
    "- Define the friends string and turn it into a list\n",
    "- Use the \"replace\" function on a string\n",
    "- Use the \"upper\" and \"lower\" functions on strings"
   ]
  },
  {
   "cell_type": "code",
   "execution_count": null,
   "metadata": {
    "collapsed": true
   },
   "outputs": [],
   "source": []
  },
  {
   "cell_type": "markdown",
   "metadata": {},
   "source": [
    "#### Exercise 8 - Challenge - \n",
    "\n",
    "Use the \"join\" function on a string to go from the \"list_of_friends\" variable back to the string where the friends are separated by commas. Try doing it in one line"
   ]
  },
  {
   "cell_type": "code",
   "execution_count": null,
   "metadata": {
    "collapsed": true
   },
   "outputs": [],
   "source": []
  },
  {
   "cell_type": "markdown",
   "metadata": {},
   "source": [
    "#### Exercise 9\n",
    "\n",
    "-  the list below print the following statements:\n",
    "    - things[0]\n",
    "    - things[1:3]\n",
    "    - things[-1]\n",
    "\n",
    "\n",
    "- Can you write a slice expression that gives back only the first 3 items? Can you do it two different ways? \n",
    "- Try updating the first element of the list to be your favourite meal. "
   ]
  },
  {
   "cell_type": "code",
   "execution_count": null,
   "metadata": {
    "collapsed": true
   },
   "outputs": [],
   "source": [
    "things = [\"Plant\", \"Computer\", \"Book\", \"Lamp\"]"
   ]
  },
  {
   "cell_type": "code",
   "execution_count": null,
   "metadata": {
    "collapsed": true
   },
   "outputs": [],
   "source": []
  },
  {
   "cell_type": "code",
   "execution_count": null,
   "metadata": {
    "collapsed": true
   },
   "outputs": [],
   "source": []
  },
  {
   "cell_type": "markdown",
   "metadata": {},
   "source": [
    "#### Exercise 9 - Challenge - \n",
    "\n",
    "Can you treat a string as a list? What works? What doesn't?"
   ]
  },
  {
   "cell_type": "code",
   "execution_count": null,
   "metadata": {
    "collapsed": true
   },
   "outputs": [],
   "source": []
  },
  {
   "cell_type": "markdown",
   "metadata": {},
   "source": [
    "### Control Structures"
   ]
  },
  {
   "cell_type": "markdown",
   "metadata": {},
   "source": [
    "#### Exercise 10\n",
    "\n",
    "- Run the code below, what happens?\n",
    "- Can you put in a value that lets you pass?\n",
    "- What is the type of: \"Learn Python\" == quest"
   ]
  },
  {
   "cell_type": "code",
   "execution_count": null,
   "metadata": {
    "collapsed": true
   },
   "outputs": [],
   "source": [
    "quest = \"...\"\n",
    "\n",
    "if \"Learn Python\" == quest:    \n",
    "    print(\"You may pass!\") \n",
    "else:    \n",
    "    print(\"*You get thrown off the bridge and into the ravine.*\")"
   ]
  },
  {
   "cell_type": "code",
   "execution_count": null,
   "metadata": {
    "collapsed": true
   },
   "outputs": [],
   "source": []
  },
  {
   "cell_type": "markdown",
   "metadata": {},
   "source": [
    "#### Exercise 11\n",
    "\n",
    "- Try the operators on integers and strings\n",
    "- What happens when you comper an integer to a string?\n",
    "- Are upper case letters smaller than, equal to, or larger than lower case letters?\n",
    "- Does the order of elements matter when you compare if two lists are equal? What about tuples?\n"
   ]
  },
  {
   "cell_type": "code",
   "execution_count": null,
   "metadata": {
    "collapsed": true
   },
   "outputs": [],
   "source": []
  },
  {
   "cell_type": "markdown",
   "metadata": {},
   "source": [
    "#### Exercise 12\n",
    "\n",
    "- Make a for loop over the numbers from 1 to 10, that: \n",
    "    - prints \"hello\"  if the number is less than 5\n",
    "    - prints \"goodbye!\" otherwise\n",
    "\n",
    "\n",
    "- Define a list of nearby things and use a for loop to print only those things that start with the letter \"d\".\n",
    "    Hint: Look up functions that are available on strings. "
   ]
  },
  {
   "cell_type": "code",
   "execution_count": null,
   "metadata": {
    "collapsed": true
   },
   "outputs": [],
   "source": []
  },
  {
   "cell_type": "code",
   "execution_count": null,
   "metadata": {
    "collapsed": true
   },
   "outputs": [],
   "source": []
  },
  {
   "cell_type": "markdown",
   "metadata": {},
   "source": [
    "#### Group Question 4\n",
    "\n",
    "Group Question 4 - Have you encountered a real-life version of a for loop? What is it?\n",
    "Take a few minutes to write a pseudo-code version of a for loopthat solves this task. \n",
    "See example below.\n",
    "\n",
    "```\n",
    "for great_movies in all_movies_ever:\n",
    "    for movie in great_movies:\n",
    "        watch(movie)\n",
    "        discuss(movie, with=friends)\n",
    "```"
   ]
  },
  {
   "cell_type": "code",
   "execution_count": null,
   "metadata": {
    "collapsed": true
   },
   "outputs": [],
   "source": []
  }
 ],
 "metadata": {
  "kernelspec": {
   "display_name": "Python 3",
   "language": "python",
   "name": "python3"
  },
  "language_info": {
   "codemirror_mode": {
    "name": "ipython",
    "version": 3
   },
   "file_extension": ".py",
   "mimetype": "text/x-python",
   "name": "python",
   "nbconvert_exporter": "python",
   "pygments_lexer": "ipython3",
   "version": "3.6.1"
  }
 },
 "nbformat": 4,
 "nbformat_minor": 2
}
